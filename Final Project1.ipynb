{
 "cells": [
  {
   "cell_type": "code",
   "execution_count": 1,
   "id": "70c7ebb2",
   "metadata": {},
   "outputs": [],
   "source": [
    "import numpy as np\n",
    "import pandas as pd\n",
    "import matplotlib.pyplot as plt\n",
    "from sklearn.cluster import KMeans\n",
    "from sklearn.decomposition import PCA\n",
    "from scipy.spatial import distance_matrix\n",
    "from sklearn.preprocessing import StandardScaler\n",
    "from sklearn import preprocessing\n",
    "from sklearn.preprocessing import scale\n",
    "df=pd.read_csv(\"C:/Users/cregg/Downloads/preprocessed_data.csv\")"
   ]
  },
  {
   "cell_type": "code",
   "execution_count": 2,
   "id": "a3cbae9e",
   "metadata": {},
   "outputs": [
    {
     "data": {
      "text/plain": [
       "(39774, 3140)"
      ]
     },
     "execution_count": 2,
     "metadata": {},
     "output_type": "execute_result"
    }
   ],
   "source": [
    "np.shape(df)"
   ]
  },
  {
   "cell_type": "code",
   "execution_count": 3,
   "id": "bb4f8874",
   "metadata": {},
   "outputs": [
    {
     "data": {
      "text/html": [
       "<div>\n",
       "<style scoped>\n",
       "    .dataframe tbody tr th:only-of-type {\n",
       "        vertical-align: middle;\n",
       "    }\n",
       "\n",
       "    .dataframe tbody tr th {\n",
       "        vertical-align: top;\n",
       "    }\n",
       "\n",
       "    .dataframe thead th {\n",
       "        text-align: right;\n",
       "    }\n",
       "</style>\n",
       "<table border=\"1\" class=\"dataframe\">\n",
       "  <thead>\n",
       "    <tr style=\"text-align: right;\">\n",
       "      <th></th>\n",
       "      <th>id</th>\n",
       "      <th>'n</th>\n",
       "      <th>(10</th>\n",
       "      <th>(14</th>\n",
       "      <th>(14.5</th>\n",
       "      <th>(15</th>\n",
       "      <th>(flour)</th>\n",
       "      <th>(not</th>\n",
       "      <th>(powder)</th>\n",
       "      <th>00</th>\n",
       "      <th>...</th>\n",
       "      <th>za'atar</th>\n",
       "      <th>zatarains</th>\n",
       "      <th>zatarain’s</th>\n",
       "      <th>zero</th>\n",
       "      <th>zest</th>\n",
       "      <th>zesty</th>\n",
       "      <th>zinfandel</th>\n",
       "      <th>ziti</th>\n",
       "      <th>zucchini</th>\n",
       "      <th>épices</th>\n",
       "    </tr>\n",
       "  </thead>\n",
       "  <tbody>\n",
       "    <tr>\n",
       "      <th>0</th>\n",
       "      <td>10259</td>\n",
       "      <td>0.0</td>\n",
       "      <td>0.0</td>\n",
       "      <td>0.0</td>\n",
       "      <td>0.0</td>\n",
       "      <td>0.0</td>\n",
       "      <td>0.0</td>\n",
       "      <td>0.0</td>\n",
       "      <td>0.0</td>\n",
       "      <td>0.0</td>\n",
       "      <td>...</td>\n",
       "      <td>0.0</td>\n",
       "      <td>0.0</td>\n",
       "      <td>0.0</td>\n",
       "      <td>0.0</td>\n",
       "      <td>0.0</td>\n",
       "      <td>0.0</td>\n",
       "      <td>0.0</td>\n",
       "      <td>0.0</td>\n",
       "      <td>0.0</td>\n",
       "      <td>0.0</td>\n",
       "    </tr>\n",
       "    <tr>\n",
       "      <th>1</th>\n",
       "      <td>25693</td>\n",
       "      <td>0.0</td>\n",
       "      <td>0.0</td>\n",
       "      <td>0.0</td>\n",
       "      <td>0.0</td>\n",
       "      <td>0.0</td>\n",
       "      <td>0.0</td>\n",
       "      <td>0.0</td>\n",
       "      <td>0.0</td>\n",
       "      <td>0.0</td>\n",
       "      <td>...</td>\n",
       "      <td>0.0</td>\n",
       "      <td>0.0</td>\n",
       "      <td>0.0</td>\n",
       "      <td>0.0</td>\n",
       "      <td>0.0</td>\n",
       "      <td>0.0</td>\n",
       "      <td>0.0</td>\n",
       "      <td>0.0</td>\n",
       "      <td>0.0</td>\n",
       "      <td>0.0</td>\n",
       "    </tr>\n",
       "    <tr>\n",
       "      <th>2</th>\n",
       "      <td>20130</td>\n",
       "      <td>0.0</td>\n",
       "      <td>0.0</td>\n",
       "      <td>0.0</td>\n",
       "      <td>0.0</td>\n",
       "      <td>0.0</td>\n",
       "      <td>0.0</td>\n",
       "      <td>0.0</td>\n",
       "      <td>0.0</td>\n",
       "      <td>0.0</td>\n",
       "      <td>...</td>\n",
       "      <td>0.0</td>\n",
       "      <td>0.0</td>\n",
       "      <td>0.0</td>\n",
       "      <td>0.0</td>\n",
       "      <td>0.0</td>\n",
       "      <td>0.0</td>\n",
       "      <td>0.0</td>\n",
       "      <td>0.0</td>\n",
       "      <td>0.0</td>\n",
       "      <td>0.0</td>\n",
       "    </tr>\n",
       "    <tr>\n",
       "      <th>3</th>\n",
       "      <td>22213</td>\n",
       "      <td>0.0</td>\n",
       "      <td>0.0</td>\n",
       "      <td>0.0</td>\n",
       "      <td>0.0</td>\n",
       "      <td>0.0</td>\n",
       "      <td>0.0</td>\n",
       "      <td>0.0</td>\n",
       "      <td>0.0</td>\n",
       "      <td>0.0</td>\n",
       "      <td>...</td>\n",
       "      <td>0.0</td>\n",
       "      <td>0.0</td>\n",
       "      <td>0.0</td>\n",
       "      <td>0.0</td>\n",
       "      <td>0.0</td>\n",
       "      <td>0.0</td>\n",
       "      <td>0.0</td>\n",
       "      <td>0.0</td>\n",
       "      <td>0.0</td>\n",
       "      <td>0.0</td>\n",
       "    </tr>\n",
       "    <tr>\n",
       "      <th>4</th>\n",
       "      <td>13162</td>\n",
       "      <td>0.0</td>\n",
       "      <td>0.0</td>\n",
       "      <td>0.0</td>\n",
       "      <td>0.0</td>\n",
       "      <td>0.0</td>\n",
       "      <td>0.0</td>\n",
       "      <td>0.0</td>\n",
       "      <td>0.0</td>\n",
       "      <td>0.0</td>\n",
       "      <td>...</td>\n",
       "      <td>0.0</td>\n",
       "      <td>0.0</td>\n",
       "      <td>0.0</td>\n",
       "      <td>0.0</td>\n",
       "      <td>0.0</td>\n",
       "      <td>0.0</td>\n",
       "      <td>0.0</td>\n",
       "      <td>0.0</td>\n",
       "      <td>0.0</td>\n",
       "      <td>0.0</td>\n",
       "    </tr>\n",
       "  </tbody>\n",
       "</table>\n",
       "<p>5 rows × 3140 columns</p>\n",
       "</div>"
      ],
      "text/plain": [
       "      id   'n  (10  (14  (14.5  (15  (flour)  (not  (powder)   00  ...  \\\n",
       "0  10259  0.0  0.0  0.0    0.0  0.0      0.0   0.0       0.0  0.0  ...   \n",
       "1  25693  0.0  0.0  0.0    0.0  0.0      0.0   0.0       0.0  0.0  ...   \n",
       "2  20130  0.0  0.0  0.0    0.0  0.0      0.0   0.0       0.0  0.0  ...   \n",
       "3  22213  0.0  0.0  0.0    0.0  0.0      0.0   0.0       0.0  0.0  ...   \n",
       "4  13162  0.0  0.0  0.0    0.0  0.0      0.0   0.0       0.0  0.0  ...   \n",
       "\n",
       "   za'atar  zatarains  zatarain’s  zero  zest  zesty  zinfandel  ziti  \\\n",
       "0      0.0        0.0         0.0   0.0   0.0    0.0        0.0   0.0   \n",
       "1      0.0        0.0         0.0   0.0   0.0    0.0        0.0   0.0   \n",
       "2      0.0        0.0         0.0   0.0   0.0    0.0        0.0   0.0   \n",
       "3      0.0        0.0         0.0   0.0   0.0    0.0        0.0   0.0   \n",
       "4      0.0        0.0         0.0   0.0   0.0    0.0        0.0   0.0   \n",
       "\n",
       "   zucchini  épices  \n",
       "0       0.0     0.0  \n",
       "1       0.0     0.0  \n",
       "2       0.0     0.0  \n",
       "3       0.0     0.0  \n",
       "4       0.0     0.0  \n",
       "\n",
       "[5 rows x 3140 columns]"
      ]
     },
     "execution_count": 3,
     "metadata": {},
     "output_type": "execute_result"
    }
   ],
   "source": [
    "df.head()"
   ]
  },
  {
   "cell_type": "code",
   "execution_count": 4,
   "id": "6eadd018",
   "metadata": {},
   "outputs": [],
   "source": [
    "features = ['cheese', 'rice', 'tortillas', 'chicken', 'salsa', 'beans']\n",
    "\n",
    "x = df.loc[:, features].values\n",
    "\n",
    "y = df.loc[:, ['id']].values\n",
    "\n",
    "x = StandardScaler().fit_transform(x)"
   ]
  },
  {
   "cell_type": "code",
   "execution_count": 5,
   "id": "54755a73",
   "metadata": {},
   "outputs": [],
   "source": [
    "pca = PCA(n_components=3)\n",
    "\n",
    "principalComponents = pca.fit_transform(x)\n",
    "\n",
    "principalDataframe = pd.DataFrame(data = principalComponents, columns = ['PC1', 'PC2', 'PC3'])"
   ]
  },
  {
   "cell_type": "code",
   "execution_count": 6,
   "id": "4153349a",
   "metadata": {},
   "outputs": [],
   "source": [
    "targetDataframe = df[['id']]\n",
    "\n",
    "newDataframe = pd.concat([principalDataframe, targetDataframe],axis = 1)"
   ]
  },
  {
   "cell_type": "code",
   "execution_count": 7,
   "id": "2a6765cb",
   "metadata": {},
   "outputs": [
    {
     "data": {
      "text/html": [
       "<div>\n",
       "<style scoped>\n",
       "    .dataframe tbody tr th:only-of-type {\n",
       "        vertical-align: middle;\n",
       "    }\n",
       "\n",
       "    .dataframe tbody tr th {\n",
       "        vertical-align: top;\n",
       "    }\n",
       "\n",
       "    .dataframe thead th {\n",
       "        text-align: right;\n",
       "    }\n",
       "</style>\n",
       "<table border=\"1\" class=\"dataframe\">\n",
       "  <thead>\n",
       "    <tr style=\"text-align: right;\">\n",
       "      <th></th>\n",
       "      <th>PC1</th>\n",
       "      <th>PC2</th>\n",
       "      <th>PC3</th>\n",
       "      <th>id</th>\n",
       "    </tr>\n",
       "  </thead>\n",
       "  <tbody>\n",
       "    <tr>\n",
       "      <th>0</th>\n",
       "      <td>1.434381</td>\n",
       "      <td>-0.399614</td>\n",
       "      <td>1.996728</td>\n",
       "      <td>10259</td>\n",
       "    </tr>\n",
       "    <tr>\n",
       "      <th>1</th>\n",
       "      <td>-0.545641</td>\n",
       "      <td>-0.437857</td>\n",
       "      <td>0.286260</td>\n",
       "      <td>25693</td>\n",
       "    </tr>\n",
       "    <tr>\n",
       "      <th>2</th>\n",
       "      <td>-0.107169</td>\n",
       "      <td>1.690122</td>\n",
       "      <td>-2.058897</td>\n",
       "      <td>20130</td>\n",
       "    </tr>\n",
       "    <tr>\n",
       "      <th>3</th>\n",
       "      <td>-0.545641</td>\n",
       "      <td>-0.437857</td>\n",
       "      <td>0.286260</td>\n",
       "      <td>22213</td>\n",
       "    </tr>\n",
       "    <tr>\n",
       "      <th>4</th>\n",
       "      <td>-0.377592</td>\n",
       "      <td>0.377716</td>\n",
       "      <td>-0.612549</td>\n",
       "      <td>13162</td>\n",
       "    </tr>\n",
       "    <tr>\n",
       "      <th>...</th>\n",
       "      <td>...</td>\n",
       "      <td>...</td>\n",
       "      <td>...</td>\n",
       "      <td>...</td>\n",
       "    </tr>\n",
       "    <tr>\n",
       "      <th>39769</th>\n",
       "      <td>-0.545641</td>\n",
       "      <td>-0.437857</td>\n",
       "      <td>0.286260</td>\n",
       "      <td>29109</td>\n",
       "    </tr>\n",
       "    <tr>\n",
       "      <th>39770</th>\n",
       "      <td>-0.086435</td>\n",
       "      <td>-0.926461</td>\n",
       "      <td>-0.173379</td>\n",
       "      <td>11462</td>\n",
       "    </tr>\n",
       "    <tr>\n",
       "      <th>39771</th>\n",
       "      <td>-0.545641</td>\n",
       "      <td>-0.437857</td>\n",
       "      <td>0.286260</td>\n",
       "      <td>2238</td>\n",
       "    </tr>\n",
       "    <tr>\n",
       "      <th>39772</th>\n",
       "      <td>-0.665619</td>\n",
       "      <td>3.064008</td>\n",
       "      <td>-0.828867</td>\n",
       "      <td>41882</td>\n",
       "    </tr>\n",
       "    <tr>\n",
       "      <th>39773</th>\n",
       "      <td>-0.545641</td>\n",
       "      <td>-0.437857</td>\n",
       "      <td>0.286260</td>\n",
       "      <td>2362</td>\n",
       "    </tr>\n",
       "  </tbody>\n",
       "</table>\n",
       "<p>39774 rows × 4 columns</p>\n",
       "</div>"
      ],
      "text/plain": [
       "            PC1       PC2       PC3     id\n",
       "0      1.434381 -0.399614  1.996728  10259\n",
       "1     -0.545641 -0.437857  0.286260  25693\n",
       "2     -0.107169  1.690122 -2.058897  20130\n",
       "3     -0.545641 -0.437857  0.286260  22213\n",
       "4     -0.377592  0.377716 -0.612549  13162\n",
       "...         ...       ...       ...    ...\n",
       "39769 -0.545641 -0.437857  0.286260  29109\n",
       "39770 -0.086435 -0.926461 -0.173379  11462\n",
       "39771 -0.545641 -0.437857  0.286260   2238\n",
       "39772 -0.665619  3.064008 -0.828867  41882\n",
       "39773 -0.545641 -0.437857  0.286260   2362\n",
       "\n",
       "[39774 rows x 4 columns]"
      ]
     },
     "execution_count": 7,
     "metadata": {},
     "output_type": "execute_result"
    }
   ],
   "source": [
    "newDataframe"
   ]
  },
  {
   "cell_type": "code",
   "execution_count": 8,
   "id": "133e5e40",
   "metadata": {},
   "outputs": [
    {
     "data": {
      "text/plain": [
       "array([0.2604036 , 0.19321483, 0.160895  ])"
      ]
     },
     "execution_count": 8,
     "metadata": {},
     "output_type": "execute_result"
    }
   ],
   "source": [
    "pca.explained_variance_ratio_"
   ]
  },
  {
   "cell_type": "code",
   "execution_count": 9,
   "id": "80cf6928",
   "metadata": {},
   "outputs": [
    {
     "data": {
      "image/png": "[encoded data removed]",
      "text/plain": [
       "<Figure size 432x288 with 1 Axes>"
      ]
     },
     "metadata": {
      "needs_background": "light"
     },
     "output_type": "display_data"
    }
   ],
   "source": [
    "percent_variance = np.round(pca.explained_variance_ratio_* 100, decimals =2)\n",
    "columns = ['PC1', 'PC2', 'PC3']\n",
    "plt.bar(x= range(1,4), height=percent_variance, tick_label=columns)\n",
    "plt.ylabel('Percentate of Variance Explained')\n",
    "plt.xlabel('Principal Component')\n",
    "plt.title('PCA Scree Plot')\n",
    "plt.show()"
   ]
  },
  {
   "cell_type": "code",
   "execution_count": 10,
   "id": "9f0f2060",
   "metadata": {},
   "outputs": [
    {
     "data": {
      "text/plain": [
       "PC1       11.732689\n",
       "PC2        7.532088\n",
       "PC3        7.719919\n",
       "id     49717.000000\n",
       "dtype: float64"
      ]
     },
     "execution_count": 10,
     "metadata": {},
     "output_type": "execute_result"
    }
   ],
   "source": [
    "newDataframe.max()"
   ]
  },
  {
   "cell_type": "code",
   "execution_count": 11,
   "id": "5fd8a177",
   "metadata": {},
   "outputs": [
    {
     "data": {
      "text/html": [
       "<div>\n",
       "<style scoped>\n",
       "    .dataframe tbody tr th:only-of-type {\n",
       "        vertical-align: middle;\n",
       "    }\n",
       "\n",
       "    .dataframe tbody tr th {\n",
       "        vertical-align: top;\n",
       "    }\n",
       "\n",
       "    .dataframe thead th {\n",
       "        text-align: right;\n",
       "    }\n",
       "</style>\n",
       "<table border=\"1\" class=\"dataframe\">\n",
       "  <thead>\n",
       "    <tr style=\"text-align: right;\">\n",
       "      <th></th>\n",
       "      <th>PC1</th>\n",
       "      <th>PC2</th>\n",
       "      <th>PC3</th>\n",
       "      <th>id</th>\n",
       "    </tr>\n",
       "  </thead>\n",
       "  <tbody>\n",
       "    <tr>\n",
       "      <th>29699</th>\n",
       "      <td>-1.846438</td>\n",
       "      <td>6.871174</td>\n",
       "      <td>1.383912</td>\n",
       "      <td>44076</td>\n",
       "    </tr>\n",
       "    <tr>\n",
       "      <th>23494</th>\n",
       "      <td>-1.762524</td>\n",
       "      <td>6.399671</td>\n",
       "      <td>1.313103</td>\n",
       "      <td>21333</td>\n",
       "    </tr>\n",
       "    <tr>\n",
       "      <th>26372</th>\n",
       "      <td>-1.681200</td>\n",
       "      <td>5.942721</td>\n",
       "      <td>1.244479</td>\n",
       "      <td>46714</td>\n",
       "    </tr>\n",
       "    <tr>\n",
       "      <th>9869</th>\n",
       "      <td>-1.597626</td>\n",
       "      <td>5.473128</td>\n",
       "      <td>1.173957</td>\n",
       "      <td>27927</td>\n",
       "    </tr>\n",
       "    <tr>\n",
       "      <th>8036</th>\n",
       "      <td>-1.573372</td>\n",
       "      <td>5.336852</td>\n",
       "      <td>1.153491</td>\n",
       "      <td>36602</td>\n",
       "    </tr>\n",
       "    <tr>\n",
       "      <th>...</th>\n",
       "      <td>...</td>\n",
       "      <td>...</td>\n",
       "      <td>...</td>\n",
       "      <td>...</td>\n",
       "    </tr>\n",
       "    <tr>\n",
       "      <th>28734</th>\n",
       "      <td>10.598184</td>\n",
       "      <td>0.699993</td>\n",
       "      <td>2.588256</td>\n",
       "      <td>13382</td>\n",
       "    </tr>\n",
       "    <tr>\n",
       "      <th>127</th>\n",
       "      <td>10.829297</td>\n",
       "      <td>0.723591</td>\n",
       "      <td>2.635997</td>\n",
       "      <td>7406</td>\n",
       "    </tr>\n",
       "    <tr>\n",
       "      <th>17925</th>\n",
       "      <td>11.049391</td>\n",
       "      <td>0.746064</td>\n",
       "      <td>2.681462</td>\n",
       "      <td>457</td>\n",
       "    </tr>\n",
       "    <tr>\n",
       "      <th>8927</th>\n",
       "      <td>11.251945</td>\n",
       "      <td>0.766746</td>\n",
       "      <td>2.723304</td>\n",
       "      <td>8641</td>\n",
       "    </tr>\n",
       "    <tr>\n",
       "      <th>12550</th>\n",
       "      <td>11.732689</td>\n",
       "      <td>0.815833</td>\n",
       "      <td>2.822612</td>\n",
       "      <td>47217</td>\n",
       "    </tr>\n",
       "  </tbody>\n",
       "</table>\n",
       "<p>39774 rows × 4 columns</p>\n",
       "</div>"
      ],
      "text/plain": [
       "             PC1       PC2       PC3     id\n",
       "29699  -1.846438  6.871174  1.383912  44076\n",
       "23494  -1.762524  6.399671  1.313103  21333\n",
       "26372  -1.681200  5.942721  1.244479  46714\n",
       "9869   -1.597626  5.473128  1.173957  27927\n",
       "8036   -1.573372  5.336852  1.153491  36602\n",
       "...          ...       ...       ...    ...\n",
       "28734  10.598184  0.699993  2.588256  13382\n",
       "127    10.829297  0.723591  2.635997   7406\n",
       "17925  11.049391  0.746064  2.681462    457\n",
       "8927   11.251945  0.766746  2.723304   8641\n",
       "12550  11.732689  0.815833  2.822612  47217\n",
       "\n",
       "[39774 rows x 4 columns]"
      ]
     },
     "execution_count": 11,
     "metadata": {},
     "output_type": "execute_result"
    }
   ],
   "source": [
    "newDataframe.sort_values(by=['PC1', 'PC2', 'PC3'])"
   ]
  },
  {
   "cell_type": "code",
   "execution_count": 12,
   "id": "74baddee",
   "metadata": {},
   "outputs": [
    {
     "data": {
      "text/plain": [
       "Text(0, 0.5, 'PC3')"
      ]
     },
     "execution_count": 12,
     "metadata": {},
     "output_type": "execute_result"
    },
    {
     "data": {
      "image/png": "[encoded data removed]",
      "text/plain": [
       "<Figure size 432x288 with 1 Axes>"
      ]
     },
     "metadata": {
      "needs_background": "light"
     },
     "output_type": "display_data"
    }
   ],
   "source": [
    "plt.scatter(principalDataframe.PC1, principalDataframe.PC3)\n",
    "plt.title('PC1 against PC3')\n",
    "plt.xlabel('PC1')\n",
    "plt.ylabel('PC3')"
   ]
  },
  {
   "cell_type": "code",
   "execution_count": 13,
   "id": "272bb0a0",
   "metadata": {},
   "outputs": [
    {
     "data": {
      "text/plain": [
       "Text(0, 0.5, 'PC3')"
      ]
     },
     "execution_count": 13,
     "metadata": {},
     "output_type": "execute_result"
    },
    {
     "data": {
      "image/png": "[encoded data removed]",
      "text/plain": [
       "<Figure size 432x288 with 1 Axes>"
      ]
     },
     "metadata": {
      "needs_background": "light"
     },
     "output_type": "display_data"
    }
   ],
   "source": [
    "plt.scatter(principalDataframe.PC2, principalDataframe.PC3)\n",
    "plt.title('PC2 against PC3')\n",
    "plt.xlabel('PC2')\n",
    "plt.ylabel('PC3')"
   ]
  },
  {
   "cell_type": "code",
   "execution_count": null,
   "id": "bf8e5bde",
   "metadata": {},
   "outputs": [],
   "source": []
  }
 ],
 "metadata": {
  "kernelspec": {
   "display_name": "Python 3",
   "language": "python",
   "name": "python3"
  },
  "language_info": {
   "codemirror_mode": {
    "name": "ipython",
    "version": 3
   },
   "file_extension": ".py",
   "mimetype": "text/x-python",
   "name": "python",
   "nbconvert_exporter": "python",
   "pygments_lexer": "ipython3",
   "version": "3.8.8"
  }
 },
 "nbformat": 4,
 "nbformat_minor": 5
}
